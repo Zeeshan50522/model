{
  "nbformat": 4,
  "nbformat_minor": 0,
  "metadata": {
    "colab": {
      "name": "Untitled0.ipynb",
      "provenance": [],
      "collapsed_sections": []
    },
    "kernelspec": {
      "name": "python3",
      "display_name": "Python 3"
    },
    "accelerator": "GPU"
  },
  "cells": [
    {
      "cell_type": "code",
      "metadata": {
        "id": "H-vgd0Q5m9Pt",
        "colab_type": "code",
        "colab": {}
      },
      "source": [
        "import pandas as pd\n",
        "import numpy  as np\n",
        "from sklearn.preprocessing import RobustScaler"
      ],
      "execution_count": 0,
      "outputs": []
    },
    {
      "cell_type": "code",
      "metadata": {
        "id": "yjqYOoFJmG0T",
        "colab_type": "code",
        "colab": {}
      },
      "source": [
        "df = pd.read_csv(\"vitansigns.csv\")"
      ],
      "execution_count": 0,
      "outputs": []
    },
    {
      "cell_type": "code",
      "metadata": {
        "id": "nE6xhe5ynFDw",
        "colab_type": "code",
        "outputId": "99468cf2-eaed-4adb-cc5b-f77052efc371",
        "colab": {
          "base_uri": "https://localhost:8080/",
          "height": 204
        }
      },
      "source": [
        "df.head()"
      ],
      "execution_count": 0,
      "outputs": [
        {
          "output_type": "execute_result",
          "data": {
            "text/html": [
              "<div>\n",
              "<style scoped>\n",
              "    .dataframe tbody tr th:only-of-type {\n",
              "        vertical-align: middle;\n",
              "    }\n",
              "\n",
              "    .dataframe tbody tr th {\n",
              "        vertical-align: top;\n",
              "    }\n",
              "\n",
              "    .dataframe thead th {\n",
              "        text-align: right;\n",
              "    }\n",
              "</style>\n",
              "<table border=\"1\" class=\"dataframe\">\n",
              "  <thead>\n",
              "    <tr style=\"text-align: right;\">\n",
              "      <th></th>\n",
              "      <th>HR</th>\n",
              "      <th>SpO2</th>\n",
              "      <th>Pulse</th>\n",
              "      <th>SBP</th>\n",
              "      <th>DBP</th>\n",
              "      <th>MBP</th>\n",
              "    </tr>\n",
              "  </thead>\n",
              "  <tbody>\n",
              "    <tr>\n",
              "      <th>0</th>\n",
              "      <td>55</td>\n",
              "      <td>100</td>\n",
              "      <td>55</td>\n",
              "      <td>113</td>\n",
              "      <td>60</td>\n",
              "      <td>72</td>\n",
              "    </tr>\n",
              "    <tr>\n",
              "      <th>1</th>\n",
              "      <td>55</td>\n",
              "      <td>100</td>\n",
              "      <td>55</td>\n",
              "      <td>113</td>\n",
              "      <td>60</td>\n",
              "      <td>72</td>\n",
              "    </tr>\n",
              "    <tr>\n",
              "      <th>2</th>\n",
              "      <td>55</td>\n",
              "      <td>100</td>\n",
              "      <td>54</td>\n",
              "      <td>113</td>\n",
              "      <td>60</td>\n",
              "      <td>72</td>\n",
              "    </tr>\n",
              "    <tr>\n",
              "      <th>3</th>\n",
              "      <td>55</td>\n",
              "      <td>100</td>\n",
              "      <td>54</td>\n",
              "      <td>113</td>\n",
              "      <td>60</td>\n",
              "      <td>72</td>\n",
              "    </tr>\n",
              "    <tr>\n",
              "      <th>4</th>\n",
              "      <td>55</td>\n",
              "      <td>100</td>\n",
              "      <td>49</td>\n",
              "      <td>113</td>\n",
              "      <td>60</td>\n",
              "      <td>72</td>\n",
              "    </tr>\n",
              "  </tbody>\n",
              "</table>\n",
              "</div>"
            ],
            "text/plain": [
              "   HR  SpO2  Pulse  SBP  DBP  MBP\n",
              "0  55   100     55  113   60   72\n",
              "1  55   100     55  113   60   72\n",
              "2  55   100     54  113   60   72\n",
              "3  55   100     54  113   60   72\n",
              "4  55   100     49  113   60   72"
            ]
          },
          "metadata": {
            "tags": []
          },
          "execution_count": 74
        }
      ]
    },
    {
      "cell_type": "code",
      "metadata": {
        "id": "wP_pWY9fnL8a",
        "colab_type": "code",
        "outputId": "fa00e4f5-63aa-4b06-93da-a88e06a38eec",
        "colab": {
          "base_uri": "https://localhost:8080/",
          "height": 34
        }
      },
      "source": [
        "df.shape"
      ],
      "execution_count": 0,
      "outputs": [
        {
          "output_type": "execute_result",
          "data": {
            "text/plain": [
              "(7296, 6)"
            ]
          },
          "metadata": {
            "tags": []
          },
          "execution_count": 75
        }
      ]
    },
    {
      "cell_type": "code",
      "metadata": {
        "id": "iqiyTOzpnNHr",
        "colab_type": "code",
        "outputId": "7392e613-e973-4951-d8a6-31b0befe3247",
        "colab": {
          "base_uri": "https://localhost:8080/",
          "height": 34
        }
      },
      "source": [
        "train_size = int(len(df) * 0.9)\n",
        "test_size = len(df) - train_size\n",
        "train, test = df.iloc[0:train_size], df.iloc[train_size:len(df)]\n",
        "print(len(train), len(test))"
      ],
      "execution_count": 0,
      "outputs": [
        {
          "output_type": "stream",
          "text": [
            "6566 730\n"
          ],
          "name": "stdout"
        }
      ]
    },
    {
      "cell_type": "code",
      "metadata": {
        "id": "hCzfqBi2nPxx",
        "colab_type": "code",
        "outputId": "8996129f-4dc4-4bc8-ef20-cb8d9404ad42",
        "colab": {
          "base_uri": "https://localhost:8080/",
          "height": 255
        }
      },
      "source": [
        "print (test)"
      ],
      "execution_count": 0,
      "outputs": [
        {
          "output_type": "stream",
          "text": [
            "      HR  SpO2  Pulse  SBP  DBP  MBP\n",
            "6566  53    99     52   94   46   57\n",
            "6567  53    99     52   94   46   57\n",
            "6568  53    99     52   94   46   57\n",
            "6569  53    99     53   94   46   57\n",
            "6570  53    99     53   94   46   57\n",
            "...   ..   ...    ...  ...  ...  ...\n",
            "7291  53    98     51  106   63   72\n",
            "7292  53    98     51  106   63   72\n",
            "7293  53    98     51  106   63   72\n",
            "7294  53    98     51  106   63   72\n",
            "7295  53    98     51  106   63   72\n",
            "\n",
            "[730 rows x 6 columns]\n"
          ],
          "name": "stdout"
        }
      ]
    },
    {
      "cell_type": "code",
      "metadata": {
        "id": "bfnlyXnqnejg",
        "colab_type": "code",
        "outputId": "13479254-a2b3-4f9c-b9ca-8899c4a93c41",
        "colab": {
          "base_uri": "https://localhost:8080/",
          "height": 255
        }
      },
      "source": [
        "print (test[:])"
      ],
      "execution_count": 0,
      "outputs": [
        {
          "output_type": "stream",
          "text": [
            "      HR  SpO2  Pulse  SBP  DBP  MBP\n",
            "6566  53    99     52   94   46   57\n",
            "6567  53    99     52   94   46   57\n",
            "6568  53    99     52   94   46   57\n",
            "6569  53    99     53   94   46   57\n",
            "6570  53    99     53   94   46   57\n",
            "...   ..   ...    ...  ...  ...  ...\n",
            "7291  53    98     51  106   63   72\n",
            "7292  53    98     51  106   63   72\n",
            "7293  53    98     51  106   63   72\n",
            "7294  53    98     51  106   63   72\n",
            "7295  53    98     51  106   63   72\n",
            "\n",
            "[730 rows x 6 columns]\n"
          ],
          "name": "stdout"
        }
      ]
    },
    {
      "cell_type": "code",
      "metadata": {
        "id": "94ArybIhoUJ9",
        "colab_type": "code",
        "colab": {}
      },
      "source": [
        "f_transformer = RobustScaler()\n",
        "f_columns = ['HR', 'SpO2', 'Pulse', 'SBP','DBP','MBP']"
      ],
      "execution_count": 0,
      "outputs": []
    },
    {
      "cell_type": "code",
      "metadata": {
        "id": "JM-R6508oMqY",
        "colab_type": "code",
        "outputId": "4f9db620-4b73-4ae2-f98a-3999eeae83f4",
        "colab": {
          "base_uri": "https://localhost:8080/",
          "height": 221
        }
      },
      "source": [
        "f_transformer = f_transformer.fit(train[f_columns].to_numpy())\n",
        "train.loc[:, f_columns] = f_transformer.transform(train[f_columns].to_numpy())\n",
        "test.loc[:, f_columns] = f_transformer.transform(test[f_columns].to_numpy())"
      ],
      "execution_count": 0,
      "outputs": [
        {
          "output_type": "stream",
          "text": [
            "/usr/local/lib/python3.6/dist-packages/pandas/core/indexing.py:966: SettingWithCopyWarning: \n",
            "A value is trying to be set on a copy of a slice from a DataFrame.\n",
            "Try using .loc[row_indexer,col_indexer] = value instead\n",
            "\n",
            "See the caveats in the documentation: https://pandas.pydata.org/pandas-docs/stable/user_guide/indexing.html#returning-a-view-versus-a-copy\n",
            "  self.obj[item] = s\n",
            "/usr/local/lib/python3.6/dist-packages/pandas/core/indexing.py:966: SettingWithCopyWarning: \n",
            "A value is trying to be set on a copy of a slice from a DataFrame.\n",
            "Try using .loc[row_indexer,col_indexer] = value instead\n",
            "\n",
            "See the caveats in the documentation: https://pandas.pydata.org/pandas-docs/stable/user_guide/indexing.html#returning-a-view-versus-a-copy\n",
            "  self.obj[item] = s\n"
          ],
          "name": "stderr"
        }
      ]
    },
    {
      "cell_type": "code",
      "metadata": {
        "id": "IVltPW3RoziB",
        "colab_type": "code",
        "outputId": "095e26d9-f19d-4256-9a9f-6dbf8d375cdf",
        "colab": {
          "base_uri": "https://localhost:8080/",
          "height": 255
        }
      },
      "source": [
        "print (train)"
      ],
      "execution_count": 0,
      "outputs": [
        {
          "output_type": "stream",
          "text": [
            "       HR  SpO2     Pulse       SBP  DBP       MBP\n",
            "0    -0.5   1.0 -0.333333  2.111111  3.5  2.333333\n",
            "1    -0.5   1.0 -0.333333  2.111111  3.5  2.333333\n",
            "2    -0.5   1.0 -0.666667  2.111111  3.5  2.333333\n",
            "3    -0.5   1.0 -0.666667  2.111111  3.5  2.333333\n",
            "4    -0.5   1.0 -2.333333  2.111111  3.5  2.333333\n",
            "...   ...   ...       ...       ...  ...       ...\n",
            "6561 -1.5   0.0 -1.000000  0.000000  0.0 -0.166667\n",
            "6562 -1.5   0.0 -1.333333  0.000000  0.0 -0.166667\n",
            "6563 -1.5   0.0 -1.333333  0.000000  0.0 -0.166667\n",
            "6564 -1.5   0.0 -1.333333  0.000000  0.0 -0.166667\n",
            "6565 -1.5   0.0 -1.333333  0.000000  0.0 -0.166667\n",
            "\n",
            "[6566 rows x 6 columns]\n"
          ],
          "name": "stdout"
        }
      ]
    },
    {
      "cell_type": "code",
      "metadata": {
        "id": "1hxw-qlxphYI",
        "colab_type": "code",
        "outputId": "e4cffa18-5db9-4aa8-b3c2-3107e6c11570",
        "colab": {
          "base_uri": "https://localhost:8080/",
          "height": 255
        }
      },
      "source": [
        "print (test)"
      ],
      "execution_count": 0,
      "outputs": [
        {
          "output_type": "stream",
          "text": [
            "       HR  SpO2     Pulse       SBP   DBP       MBP\n",
            "6566 -1.5   0.0 -1.333333  0.000000  0.00 -0.166667\n",
            "6567 -1.5   0.0 -1.333333  0.000000  0.00 -0.166667\n",
            "6568 -1.5   0.0 -1.333333  0.000000  0.00 -0.166667\n",
            "6569 -1.5   0.0 -1.000000  0.000000  0.00 -0.166667\n",
            "6570 -1.5   0.0 -1.000000  0.000000  0.00 -0.166667\n",
            "...   ...   ...       ...       ...   ...       ...\n",
            "7291 -1.5  -1.0 -1.666667  1.333333  4.25  2.333333\n",
            "7292 -1.5  -1.0 -1.666667  1.333333  4.25  2.333333\n",
            "7293 -1.5  -1.0 -1.666667  1.333333  4.25  2.333333\n",
            "7294 -1.5  -1.0 -1.666667  1.333333  4.25  2.333333\n",
            "7295 -1.5  -1.0 -1.666667  1.333333  4.25  2.333333\n",
            "\n",
            "[730 rows x 6 columns]\n"
          ],
          "name": "stdout"
        }
      ]
    },
    {
      "cell_type": "code",
      "metadata": {
        "id": "6s_mTtbvpylR",
        "colab_type": "code",
        "colab": {}
      },
      "source": [
        "z1,z2,z3,z4=np.array_split(train, 4)"
      ],
      "execution_count": 0,
      "outputs": []
    },
    {
      "cell_type": "code",
      "metadata": {
        "id": "LT1CPxIIp-X5",
        "colab_type": "code",
        "outputId": "b4ce7a46-3d4e-43eb-ae37-c70b3ed3867b",
        "colab": {
          "base_uri": "https://localhost:8080/",
          "height": 85
        }
      },
      "source": [
        "z1 = z1.to_numpy()\n",
        "z2 = z2.to_numpy()\n",
        "z3 = z3.to_numpy()\n",
        "z4 = z4.to_numpy()\n",
        "print (z1.shape)\n",
        "print (z2.shape)\n",
        "print (z3.shape)\n",
        "print (z4.shape)"
      ],
      "execution_count": 0,
      "outputs": [
        {
          "output_type": "stream",
          "text": [
            "(1642, 6)\n",
            "(1642, 6)\n",
            "(1641, 6)\n",
            "(1641, 6)\n"
          ],
          "name": "stdout"
        }
      ]
    },
    {
      "cell_type": "code",
      "metadata": {
        "id": "kFYUJY8VqZ1a",
        "colab_type": "code",
        "colab": {}
      },
      "source": [
        "import tensorflow as tf\n",
        "from tensorflow import keras"
      ],
      "execution_count": 0,
      "outputs": []
    },
    {
      "cell_type": "code",
      "metadata": {
        "id": "DKYIHtc1vJlA",
        "colab_type": "code",
        "outputId": "0384cd98-a0bd-4ff9-ad5f-679b395ae2e1",
        "colab": {
          "base_uri": "https://localhost:8080/",
          "height": 85
        }
      },
      "source": [
        "print (z1.shape[1])\n",
        "print (z1.shape,z2.shape)\n",
        "\n",
        "# print (z1,z2)\n",
        "# print (z1.shape[1])\n",
        "# print (z1.shape,z2.shape)\n",
        "\n",
        "# z1 = z1.reshape(-1,1642,6)\n",
        "# z2 = z2.reshape(-1,1642,6)\n",
        "# z3 = z4.reshape(-1,1641,6)\n",
        "# z4 = z4.reshape(-1,1641,6)\n",
        "\n",
        "print (z1[1000])\n",
        "\n",
        "size = 1641\n",
        "z01 = z1[:size].astype(float)\n",
        "z02 = z2[:size].astype(float)\n",
        "z01 = z01.reshape(-1, size, 6)\n",
        "z02 = z02.reshape(-1, size, 6)\n",
        "print (z01[0][0],z01[0][0])"
      ],
      "execution_count": 0,
      "outputs": [
        {
          "output_type": "stream",
          "text": [
            "6\n",
            "(1642, 6) (1642, 6)\n",
            "[ 55 100  55  83  46  55]\n",
            "[ 55. 100.  55. 113.  60.  72.] [ 55. 100.  55. 113.  60.  72.]\n"
          ],
          "name": "stdout"
        }
      ]
    },
    {
      "cell_type": "code",
      "metadata": {
        "id": "6IiAtsiuqSGV",
        "colab_type": "code",
        "colab": {}
      },
      "source": [
        "model = keras.Sequential()\n",
        "model.add(\n",
        "  keras.layers.Bidirectional(\n",
        "    keras.layers.LSTM(\n",
        "      units=128,\n",
        "      input_shape=(size,6)\n",
        "    )\n",
        "  )\n",
        ")\n",
        "model.add(keras.layers.Dropout(rate=0.2))\n",
        "model.add(keras.layers.Dense(units=6))\n",
        "model.compile(loss='mean_squared_error', optimizer='adam')"
      ],
      "execution_count": 0,
      "outputs": []
    },
    {
      "cell_type": "code",
      "metadata": {
        "id": "iFQh1VnTvb4a",
        "colab_type": "code",
        "outputId": "531b1a9b-978a-4b03-f445-39f41c8fb27e",
        "colab": {
          "base_uri": "https://localhost:8080/",
          "height": 1000
        }
      },
      "source": [
        "history = model.fit(\n",
        "    z01, z02,\n",
        "    epochs=1000,\n",
        "    batch_size=32,\n",
        "    shuffle=False\n",
        ")"
      ],
      "execution_count": 0,
      "outputs": [
        {
          "output_type": "stream",
          "text": [
            "Epoch 844/1000\n",
            "1/1 [==============================] - 0s 2ms/step - loss: 15.4572\n",
            "Epoch 845/1000\n",
            "1/1 [==============================] - 0s 1ms/step - loss: 48.6668\n",
            "Epoch 846/1000\n",
            "1/1 [==============================] - 0s 1ms/step - loss: 6.5607\n",
            "Epoch 847/1000\n",
            "1/1 [==============================] - 0s 2ms/step - loss: 8.7457\n",
            "Epoch 848/1000\n",
            "1/1 [==============================] - 0s 1ms/step - loss: 12.2192\n",
            "Epoch 849/1000\n",
            "1/1 [==============================] - 0s 2ms/step - loss: 20.6324\n",
            "Epoch 850/1000\n",
            "1/1 [==============================] - 0s 1ms/step - loss: 54.8959\n",
            "Epoch 851/1000\n",
            "1/1 [==============================] - 0s 5ms/step - loss: 3.3920\n",
            "Epoch 852/1000\n",
            "1/1 [==============================] - 0s 1ms/step - loss: 10.8198\n",
            "Epoch 853/1000\n",
            "1/1 [==============================] - 0s 1ms/step - loss: 4.8256\n",
            "Epoch 854/1000\n",
            "1/1 [==============================] - 0s 1ms/step - loss: 3.9957\n",
            "Epoch 855/1000\n",
            "1/1 [==============================] - 0s 1ms/step - loss: 15.6409\n",
            "Epoch 856/1000\n",
            "1/1 [==============================] - 0s 1ms/step - loss: 5.0029\n",
            "Epoch 857/1000\n",
            "1/1 [==============================] - 0s 1ms/step - loss: 9.3854\n",
            "Epoch 858/1000\n",
            "1/1 [==============================] - 0s 2ms/step - loss: 5.2671\n",
            "Epoch 859/1000\n",
            "1/1 [==============================] - 0s 1ms/step - loss: 2.8740\n",
            "Epoch 860/1000\n",
            "1/1 [==============================] - 0s 1ms/step - loss: 39.0886\n",
            "Epoch 861/1000\n",
            "1/1 [==============================] - 0s 1ms/step - loss: 25.7843\n",
            "Epoch 862/1000\n",
            "1/1 [==============================] - 0s 1ms/step - loss: 13.8192\n",
            "Epoch 863/1000\n",
            "1/1 [==============================] - 0s 2ms/step - loss: 6.5878\n",
            "Epoch 864/1000\n",
            "1/1 [==============================] - 0s 1ms/step - loss: 14.1799\n",
            "Epoch 865/1000\n",
            "1/1 [==============================] - 0s 1ms/step - loss: 14.4861\n",
            "Epoch 866/1000\n",
            "1/1 [==============================] - 0s 3ms/step - loss: 54.6198\n",
            "Epoch 867/1000\n",
            "1/1 [==============================] - 0s 1ms/step - loss: 10.1966\n",
            "Epoch 868/1000\n",
            "1/1 [==============================] - 0s 1ms/step - loss: 5.7519\n",
            "Epoch 869/1000\n",
            "1/1 [==============================] - 0s 2ms/step - loss: 3.5732\n",
            "Epoch 870/1000\n",
            "1/1 [==============================] - 0s 1ms/step - loss: 3.5512\n",
            "Epoch 871/1000\n",
            "1/1 [==============================] - 0s 1ms/step - loss: 15.4082\n",
            "Epoch 872/1000\n",
            "1/1 [==============================] - 0s 2ms/step - loss: 26.1715\n",
            "Epoch 873/1000\n",
            "1/1 [==============================] - 0s 1ms/step - loss: 4.2082\n",
            "Epoch 874/1000\n",
            "1/1 [==============================] - 0s 1ms/step - loss: 7.3025\n",
            "Epoch 875/1000\n",
            "1/1 [==============================] - 0s 1ms/step - loss: 16.6302\n",
            "Epoch 876/1000\n",
            "1/1 [==============================] - 0s 4ms/step - loss: 12.9987\n",
            "Epoch 877/1000\n",
            "1/1 [==============================] - 0s 2ms/step - loss: 10.1935\n",
            "Epoch 878/1000\n",
            "1/1 [==============================] - 0s 1ms/step - loss: 24.3145\n",
            "Epoch 879/1000\n",
            "1/1 [==============================] - 0s 1ms/step - loss: 2.8206\n",
            "Epoch 880/1000\n",
            "1/1 [==============================] - 0s 1ms/step - loss: 28.7717\n",
            "Epoch 881/1000\n",
            "1/1 [==============================] - 0s 1ms/step - loss: 25.3353\n",
            "Epoch 882/1000\n",
            "1/1 [==============================] - 0s 1ms/step - loss: 7.9723\n",
            "Epoch 883/1000\n",
            "1/1 [==============================] - 0s 2ms/step - loss: 8.5808\n",
            "Epoch 884/1000\n",
            "1/1 [==============================] - 0s 2ms/step - loss: 3.6674\n",
            "Epoch 885/1000\n",
            "1/1 [==============================] - 0s 2ms/step - loss: 3.9201\n",
            "Epoch 886/1000\n",
            "1/1 [==============================] - 0s 2ms/step - loss: 23.3571\n",
            "Epoch 887/1000\n",
            "1/1 [==============================] - 0s 1ms/step - loss: 9.2252\n",
            "Epoch 888/1000\n",
            "1/1 [==============================] - 0s 1ms/step - loss: 31.2884\n",
            "Epoch 889/1000\n",
            "1/1 [==============================] - 0s 1ms/step - loss: 27.3735\n",
            "Epoch 890/1000\n",
            "1/1 [==============================] - 0s 1ms/step - loss: 65.1598\n",
            "Epoch 891/1000\n",
            "1/1 [==============================] - 0s 1ms/step - loss: 15.9376\n",
            "Epoch 892/1000\n",
            "1/1 [==============================] - 0s 1ms/step - loss: 4.0655\n",
            "Epoch 893/1000\n",
            "1/1 [==============================] - 0s 2ms/step - loss: 12.8738\n",
            "Epoch 894/1000\n",
            "1/1 [==============================] - 0s 2ms/step - loss: 9.9455\n",
            "Epoch 895/1000\n",
            "1/1 [==============================] - 0s 1ms/step - loss: 3.8785\n",
            "Epoch 896/1000\n",
            "1/1 [==============================] - 0s 1ms/step - loss: 18.8012\n",
            "Epoch 897/1000\n",
            "1/1 [==============================] - 0s 2ms/step - loss: 25.5650\n",
            "Epoch 898/1000\n",
            "1/1 [==============================] - 0s 2ms/step - loss: 4.7741\n",
            "Epoch 899/1000\n",
            "1/1 [==============================] - 0s 2ms/step - loss: 24.4764\n",
            "Epoch 900/1000\n",
            "1/1 [==============================] - 0s 2ms/step - loss: 3.9931\n",
            "Epoch 901/1000\n",
            "1/1 [==============================] - 0s 2ms/step - loss: 14.1989\n",
            "Epoch 902/1000\n",
            "1/1 [==============================] - 0s 1ms/step - loss: 3.4039\n",
            "Epoch 903/1000\n",
            "1/1 [==============================] - 0s 2ms/step - loss: 12.0976\n",
            "Epoch 904/1000\n",
            "1/1 [==============================] - 0s 1ms/step - loss: 3.5555\n",
            "Epoch 905/1000\n",
            "1/1 [==============================] - 0s 1ms/step - loss: 6.9671\n",
            "Epoch 906/1000\n",
            "1/1 [==============================] - 0s 1ms/step - loss: 2.8988\n",
            "Epoch 907/1000\n",
            "1/1 [==============================] - 0s 2ms/step - loss: 4.7188\n",
            "Epoch 908/1000\n",
            "1/1 [==============================] - 0s 2ms/step - loss: 12.9407\n",
            "Epoch 909/1000\n",
            "1/1 [==============================] - 0s 1ms/step - loss: 6.1014\n",
            "Epoch 910/1000\n",
            "1/1 [==============================] - 0s 2ms/step - loss: 11.2186\n",
            "Epoch 911/1000\n",
            "1/1 [==============================] - 0s 1ms/step - loss: 35.0992\n",
            "Epoch 912/1000\n",
            "1/1 [==============================] - 0s 1ms/step - loss: 17.6586\n",
            "Epoch 913/1000\n",
            "1/1 [==============================] - 0s 2ms/step - loss: 6.8027\n",
            "Epoch 914/1000\n",
            "1/1 [==============================] - 0s 2ms/step - loss: 11.4295\n",
            "Epoch 915/1000\n",
            "1/1 [==============================] - 0s 1ms/step - loss: 25.3872\n",
            "Epoch 916/1000\n",
            "1/1 [==============================] - 0s 1ms/step - loss: 13.1791\n",
            "Epoch 917/1000\n",
            "1/1 [==============================] - 0s 2ms/step - loss: 20.0353\n",
            "Epoch 918/1000\n",
            "1/1 [==============================] - 0s 1ms/step - loss: 10.7594\n",
            "Epoch 919/1000\n",
            "1/1 [==============================] - 0s 1ms/step - loss: 72.7837\n",
            "Epoch 920/1000\n",
            "1/1 [==============================] - 0s 1ms/step - loss: 4.0642\n",
            "Epoch 921/1000\n",
            "1/1 [==============================] - 0s 1ms/step - loss: 4.4619\n",
            "Epoch 922/1000\n",
            "1/1 [==============================] - 0s 1ms/step - loss: 2.4575\n",
            "Epoch 923/1000\n",
            "1/1 [==============================] - 0s 1ms/step - loss: 4.8484\n",
            "Epoch 924/1000\n",
            "1/1 [==============================] - 0s 2ms/step - loss: 4.0663\n",
            "Epoch 925/1000\n",
            "1/1 [==============================] - 0s 1ms/step - loss: 7.4319\n",
            "Epoch 926/1000\n",
            "1/1 [==============================] - 0s 1ms/step - loss: 2.7382\n",
            "Epoch 927/1000\n",
            "1/1 [==============================] - 0s 2ms/step - loss: 3.4586\n",
            "Epoch 928/1000\n",
            "1/1 [==============================] - 0s 1ms/step - loss: 5.1765\n",
            "Epoch 929/1000\n",
            "1/1 [==============================] - 0s 1ms/step - loss: 4.2396\n",
            "Epoch 930/1000\n",
            "1/1 [==============================] - 0s 1ms/step - loss: 4.1983\n",
            "Epoch 931/1000\n",
            "1/1 [==============================] - 0s 1ms/step - loss: 8.9065\n",
            "Epoch 932/1000\n",
            "1/1 [==============================] - 0s 2ms/step - loss: 7.4022\n",
            "Epoch 933/1000\n",
            "1/1 [==============================] - 0s 2ms/step - loss: 31.5408\n",
            "Epoch 934/1000\n",
            "1/1 [==============================] - 0s 1ms/step - loss: 14.5923\n",
            "Epoch 935/1000\n",
            "1/1 [==============================] - 0s 2ms/step - loss: 2.1052\n",
            "Epoch 936/1000\n",
            "1/1 [==============================] - 0s 1ms/step - loss: 4.9735\n",
            "Epoch 937/1000\n",
            "1/1 [==============================] - 0s 1ms/step - loss: 2.9287\n",
            "Epoch 938/1000\n",
            "1/1 [==============================] - 0s 2ms/step - loss: 7.7717\n",
            "Epoch 939/1000\n",
            "1/1 [==============================] - 0s 2ms/step - loss: 4.6433\n",
            "Epoch 940/1000\n",
            "1/1 [==============================] - 0s 2ms/step - loss: 2.6997\n",
            "Epoch 941/1000\n",
            "1/1 [==============================] - 0s 1ms/step - loss: 3.5820\n",
            "Epoch 942/1000\n",
            "1/1 [==============================] - 0s 1ms/step - loss: 39.3233\n",
            "Epoch 943/1000\n",
            "1/1 [==============================] - 0s 1ms/step - loss: 4.3181\n",
            "Epoch 944/1000\n",
            "1/1 [==============================] - 0s 2ms/step - loss: 7.7872\n",
            "Epoch 945/1000\n",
            "1/1 [==============================] - 0s 2ms/step - loss: 16.0257\n",
            "Epoch 946/1000\n",
            "1/1 [==============================] - 0s 2ms/step - loss: 4.1310\n",
            "Epoch 947/1000\n",
            "1/1 [==============================] - 0s 2ms/step - loss: 2.1854\n",
            "Epoch 948/1000\n",
            "1/1 [==============================] - 0s 2ms/step - loss: 12.1943\n",
            "Epoch 949/1000\n",
            "1/1 [==============================] - 0s 2ms/step - loss: 8.6425\n",
            "Epoch 950/1000\n",
            "1/1 [==============================] - 0s 1ms/step - loss: 8.5311\n",
            "Epoch 951/1000\n",
            "1/1 [==============================] - 0s 2ms/step - loss: 4.5011\n",
            "Epoch 952/1000\n",
            "1/1 [==============================] - 0s 1ms/step - loss: 5.2481\n",
            "Epoch 953/1000\n",
            "1/1 [==============================] - 0s 1ms/step - loss: 3.9656\n",
            "Epoch 954/1000\n",
            "1/1 [==============================] - 0s 2ms/step - loss: 2.2302\n",
            "Epoch 955/1000\n",
            "1/1 [==============================] - 0s 2ms/step - loss: 12.3542\n",
            "Epoch 956/1000\n",
            "1/1 [==============================] - 0s 2ms/step - loss: 4.4131\n",
            "Epoch 957/1000\n",
            "1/1 [==============================] - 0s 2ms/step - loss: 55.2980\n",
            "Epoch 958/1000\n",
            "1/1 [==============================] - 0s 2ms/step - loss: 5.1160\n",
            "Epoch 959/1000\n",
            "1/1 [==============================] - 0s 2ms/step - loss: 6.9334\n",
            "Epoch 960/1000\n",
            "1/1 [==============================] - 0s 2ms/step - loss: 6.7455\n",
            "Epoch 961/1000\n",
            "1/1 [==============================] - 0s 2ms/step - loss: 3.8741\n",
            "Epoch 962/1000\n",
            "1/1 [==============================] - 0s 2ms/step - loss: 7.5433\n",
            "Epoch 963/1000\n",
            "1/1 [==============================] - 0s 1ms/step - loss: 5.2667\n",
            "Epoch 964/1000\n",
            "1/1 [==============================] - 0s 1ms/step - loss: 3.0440\n",
            "Epoch 965/1000\n",
            "1/1 [==============================] - 0s 2ms/step - loss: 8.6576\n",
            "Epoch 966/1000\n",
            "1/1 [==============================] - 0s 1ms/step - loss: 7.2309\n",
            "Epoch 967/1000\n",
            "1/1 [==============================] - 0s 4ms/step - loss: 2.5473\n",
            "Epoch 968/1000\n",
            "1/1 [==============================] - 0s 2ms/step - loss: 21.3044\n",
            "Epoch 969/1000\n",
            "1/1 [==============================] - 0s 2ms/step - loss: 7.0468\n",
            "Epoch 970/1000\n",
            "1/1 [==============================] - 0s 1ms/step - loss: 2.1596\n",
            "Epoch 971/1000\n",
            "1/1 [==============================] - 0s 1ms/step - loss: 8.6643\n",
            "Epoch 972/1000\n",
            "1/1 [==============================] - 0s 1ms/step - loss: 4.0192\n",
            "Epoch 973/1000\n",
            "1/1 [==============================] - 0s 1ms/step - loss: 7.7427\n",
            "Epoch 974/1000\n",
            "1/1 [==============================] - 0s 1ms/step - loss: 4.7436\n",
            "Epoch 975/1000\n",
            "1/1 [==============================] - 0s 1ms/step - loss: 2.2034\n",
            "Epoch 976/1000\n",
            "1/1 [==============================] - 0s 1ms/step - loss: 2.8484\n",
            "Epoch 977/1000\n",
            "1/1 [==============================] - 0s 2ms/step - loss: 15.7632\n",
            "Epoch 978/1000\n",
            "1/1 [==============================] - 0s 1ms/step - loss: 2.8144\n",
            "Epoch 979/1000\n",
            "1/1 [==============================] - 0s 1ms/step - loss: 4.4026\n",
            "Epoch 980/1000\n",
            "1/1 [==============================] - 0s 2ms/step - loss: 1.9390\n",
            "Epoch 981/1000\n",
            "1/1 [==============================] - 0s 1ms/step - loss: 4.9631\n",
            "Epoch 982/1000\n",
            "1/1 [==============================] - 0s 1ms/step - loss: 1.9449\n",
            "Epoch 983/1000\n",
            "1/1 [==============================] - 0s 6ms/step - loss: 5.3258\n",
            "Epoch 984/1000\n",
            "1/1 [==============================] - 0s 2ms/step - loss: 7.3523\n",
            "Epoch 985/1000\n",
            "1/1 [==============================] - 0s 1ms/step - loss: 4.4458\n",
            "Epoch 986/1000\n",
            "1/1 [==============================] - 0s 2ms/step - loss: 2.1482\n",
            "Epoch 987/1000\n",
            "1/1 [==============================] - 0s 2ms/step - loss: 27.5829\n",
            "Epoch 988/1000\n",
            "1/1 [==============================] - 0s 2ms/step - loss: 4.1994\n",
            "Epoch 989/1000\n",
            "1/1 [==============================] - 0s 2ms/step - loss: 11.9493\n",
            "Epoch 990/1000\n",
            "1/1 [==============================] - 0s 2ms/step - loss: 14.2304\n",
            "Epoch 991/1000\n",
            "1/1 [==============================] - 0s 1ms/step - loss: 2.6326\n",
            "Epoch 992/1000\n",
            "1/1 [==============================] - 0s 2ms/step - loss: 3.5376\n",
            "Epoch 993/1000\n",
            "1/1 [==============================] - 0s 1ms/step - loss: 3.0355\n",
            "Epoch 994/1000\n",
            "1/1 [==============================] - 0s 2ms/step - loss: 11.1227\n",
            "Epoch 995/1000\n",
            "1/1 [==============================] - 0s 1ms/step - loss: 25.2755\n",
            "Epoch 996/1000\n",
            "1/1 [==============================] - 0s 1ms/step - loss: 8.2187\n",
            "Epoch 997/1000\n",
            "1/1 [==============================] - 0s 2ms/step - loss: 9.9239\n",
            "Epoch 998/1000\n",
            "1/1 [==============================] - 0s 1ms/step - loss: 3.7264\n",
            "Epoch 999/1000\n",
            "1/1 [==============================] - 0s 2ms/step - loss: 13.3347\n",
            "Epoch 1000/1000\n",
            "1/1 [==============================] - 0s 1ms/step - loss: 1.8287\n"
          ],
          "name": "stdout"
        }
      ]
    },
    {
      "cell_type": "code",
      "metadata": {
        "id": "fe7hyquHEpaj",
        "colab_type": "code",
        "colab": {}
      },
      "source": [
        "z03 = z2[:1].astype(float)\n",
        "z03 = z03.reshape(-1, 1, 6)\n",
        "y_pred = model.predict(z03)"
      ],
      "execution_count": 0,
      "outputs": []
    },
    {
      "cell_type": "code",
      "metadata": {
        "id": "GmcXlJxA5cr_",
        "colab_type": "code",
        "outputId": "ae9719b1-2e04-4465-a3a2-dc7b361487a9",
        "colab": {
          "base_uri": "https://localhost:8080/",
          "height": 34
        }
      },
      "source": [
        "print (z03)\n",
        "###### Real Data #####"
      ],
      "execution_count": 0,
      "outputs": [
        {
          "output_type": "stream",
          "text": [
            "[[[54. 99. 53. 89. 46. 56.]]]\n"
          ],
          "name": "stdout"
        }
      ]
    },
    {
      "cell_type": "code",
      "metadata": {
        "id": "RN8dZE17E8wu",
        "colab_type": "code",
        "outputId": "dc3a15dc-1a2f-40c8-80c8-38f466fd97e4",
        "colab": {
          "base_uri": "https://localhost:8080/",
          "height": 34
        }
      },
      "source": [
        "print (y_pred)\n",
        "#### predicted data"
      ],
      "execution_count": 0,
      "outputs": [
        {
          "output_type": "stream",
          "text": [
            "[[35.43682  62.06757  34.968437 57.089012 27.855534 35.206226]]\n"
          ],
          "name": "stdout"
        }
      ]
    },
    {
      "cell_type": "code",
      "metadata": {
        "id": "wtfqwctn6HF6",
        "colab_type": "code",
        "outputId": "19025a3f-6067-44a2-e60b-8b21f56834ff",
        "colab": {
          "base_uri": "https://localhost:8080/",
          "height": 34
        }
      },
      "source": [
        "print (z4[:1])"
      ],
      "execution_count": 0,
      "outputs": [
        {
          "output_type": "stream",
          "text": [
            "[[ 0.5        -2.          0.33333333  0.77777778  1.25        1.        ]]\n"
          ],
          "name": "stdout"
        }
      ]
    },
    {
      "cell_type": "code",
      "metadata": {
        "id": "Vi0hLBHK5sGr",
        "colab_type": "code",
        "colab": {}
      },
      "source": [
        ""
      ],
      "execution_count": 0,
      "outputs": []
    }
  ]
}